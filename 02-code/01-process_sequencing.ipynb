{
 "cells": [
  {
   "cell_type": "code",
   "execution_count": 1,
   "id": "8a137a3b-4f55-44ee-83f4-6f20e854cd4f",
   "metadata": {
    "scrolled": true,
    "tags": []
   },
   "outputs": [
    {
     "name": "stdout",
     "output_type": "stream",
     "text": [
      "    pandas  2.1.4\n",
      "   seaborn  0.13.2\n",
      "\n",
      "Python 3.9.13 [Tue Sep 24, 2024 09:22:53]\n"
     ]
    }
   ],
   "source": [
    "import os\n",
    "from glob import glob\n",
    "import pandas as pd\n",
    "import seaborn as sns\n",
    "import matplotlib.pyplot as plt\n",
    "%load_ext iversions\n",
    "%iversions\n",
    "\n",
    "plt.rc('font', family='Arial')\n",
    "THREADS = 4"
   ]
  },
  {
   "cell_type": "code",
   "execution_count": null,
   "id": "fc8977e7",
   "metadata": {},
   "outputs": [],
   "source": [
    "def run_fastqc(in_dir, out_dir):\n",
    "    os.subprocess(['fastqc',in_dir,'-o','../02-OUTPUT/01-QC/'])\n",
    "    return None\n",
    "\n",
    "def run_multiqc(in_dir, out_dir):\n",
    "    os.subprocess(['multiqc',in_dir,'-o','../02-OUTPUT/01-QC/'])\n",
    "    return None   \n",
    "\n",
    "def run_trimmomatic(in_dir,out_dir,params):\n",
    "    for seq in glob(f\"{in_dir}/*R1*.fastq.gz\"):\n",
    "        handle = seq.split('/')[-1].replace(\"_R1_001.fastq.gz\",\"\")\n",
    "        r1 = handle + \"_R1_001\"\n",
    "        r2 = handle + \"_R2_001\"\n",
    "        os.system(f\"trimmomatic PE -threads {THREADS} -phred33 -trimlog {out_dir}/02-trimmomatic-trim_log_{handle}.txt\\\n",
    "        {in_dir}/{r1}.fastq.gz {in_dir}/{r2}.fastq.gz \\\n",
    "        {out_dir}/{r1}.trimmed.fastq.gz {out_dir}/{r1}un.trimmed.fastq.gz \\\n",
    "        {out_dir}/{r2}.trimmed.fastq.gz {out_dir}/{r2}un.trimmed.fastq.gz \\\n",
    "        {params}\")\n",
    "    return None     \n",
    "\n",
    "def build_bowtie2_index(in_file, out_file):\n",
    "    os.subprocess(f\"bowtie2-build {in_file} {out_file}\")\n",
    "    return None\n",
    "\n",
    "def run_bowtie2_alignment(in_dir, out_dir):\n",
    "    for seq in glob(f\"{in_dir}/*R1*.fastq.gz\"):\n",
    "        handle = seq.split('/')[-1].replace(\"_R1_001.fastq.gz\",\"\")\n",
    "        r1 = handle + \"_R1_001\"\n",
    "        r2 = handle + \"_R2_001\"\n",
    "        os.system(f\"bowtie2 -q --phred33 --no-unal \\\n",
    "        -x {out_dir}/Gent_RK2 \\\n",
    "        -1 {in_dir}/{r1}.trimmed.fastq.gz \\\n",
    "        -2 {in_dir}/{r2}.trimmed.fastq.gz \\\n",
    "        -S {out_dir}/{handle}_mapping.sam\")\n",
    "    return None\n",
    "\n",
    "def run_pysamstats(in_dir,out_dir):\n",
    "    for sam in glob(f\"{in_dir}/*.sam\"):\n",
    "        handle = sam.replace('.sam','').split('/')[-1]\n",
    "        os.system(f\"samtools view -bS {in_dir}/{handle}.sam > {out_dir}/{handle}.bam\")\n",
    "        os.system(f\"samtools sort {out_dir}/{handle}.bam > {out_dir}/{handle}.sorted.bam\")\n",
    "        os.system(f\"samtools index {out_dir}/{handle}.sorted.bam\")\n",
    "    for bam in glob(\"../02-OUTPUT/04-ANALYZE/*.sorted.bam\"):\n",
    "        os.system(f\"pysamstats \\\n",
    "        --fasta ../01-INPUT/03-REFERENCE/Gent_RK2.fasta \\\n",
    "        --type variation \\\n",
    "        --max-depth 10000000 \\\n",
    "        {bam} > {bam}.var.txt\")\n",
    "    return None"
   ]
  },
  {
   "cell_type": "code",
   "execution_count": null,
   "id": "ba8456b1",
   "metadata": {},
   "outputs": [],
   "source": [
    "# perform QC on sequencing library using fastqc/multiqc\n",
    "run_fastqc(in_dir='../01-INPUT/02-FASTQ/*',out_dir='../02-OUTPUT/01-QC/')\n",
    "run_multiqc(in_dir='../02-OUTPUT/01-QC/',out_dir='../02-OUTPUT/01-QC/')\n",
    "\n",
    "# trim sequencing reads using trimmomatic\n",
    "adapter_file = \"~/anaconda3/pkgs/trimmomatic-0.39-hdfd78af_2/share/trimmomatic-0.39-2/adapters/NexteraPE-PE.fa\"\n",
    "run_trimmomatic(in_dir=\"../01-INPUT/02-FASTQ\",\n",
    "                out_dir=\"../02-OUTPUT/02-TRIM\",\n",
    "                params=f\"ILLUMINACLIP:{adapter_file}:2:30:10 LEADING:3 TRAILING:3 SLIDINGWINDOW:4:30 MINLEN:20\")\n",
    "\n",
    "# align sequencing reads to reference using bowtie2\n",
    "build_bowtie2_index(in_file=\"../01-INPUT/03-REFERENCE/Gent_RK2.fasta\",\n",
    "                    out_file=\"../02-OUTPUT/03-ALIGN/Gent_RK2\")\n",
    "run_bowtie2_alignment(in_dir=\"../02-OUTPUT/02-TRIM\",\n",
    "                      out_dir=\"../02-OUTPUT/03-ALIGN\")\n",
    "\n",
    "# analyze sequencing results using pysamstats\n",
    "run_pysamstats(in_dir=\"../02-OUTPUT/03-ALIGN\",\n",
    "               out_dir=\"../02-OUTPUT/04-ANALYZE\")"
   ]
  }
 ],
 "metadata": {
  "kernelspec": {
   "display_name": "Python 3 (ipykernel)",
   "language": "python",
   "name": "python3"
  },
  "language_info": {
   "codemirror_mode": {
    "name": "ipython",
    "version": 3
   },
   "file_extension": ".py",
   "mimetype": "text/x-python",
   "name": "python",
   "nbconvert_exporter": "python",
   "pygments_lexer": "ipython3",
   "version": "3.9.13"
  }
 },
 "nbformat": 4,
 "nbformat_minor": 5
}
