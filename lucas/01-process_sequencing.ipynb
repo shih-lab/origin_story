{
 "cells": [
  {
   "cell_type": "code",
   "execution_count": null,
   "id": "8a137a3b-4f55-44ee-83f4-6f20e854cd4f",
   "metadata": {
    "scrolled": true,
    "tags": []
   },
   "outputs": [],
   "source": [
    "from utils import *\n",
    "\n",
    "# perform QC on sequencing library using fastqc/multiqc\n",
    "run_fastqc(in_dir='../01-INPUT/02-FASTQ/*',out_dir='../02-OUTPUT/01-QC/')\n",
    "run_multiqc(in_dir='../02-OUTPUT/01-QC/',out_dir='../02-OUTPUT/01-QC/')\n",
    "\n",
    "# trim sequencing reads using trimmomatic\n",
    "adapter_file = \"~/anaconda3/pkgs/trimmomatic-0.39-hdfd78af_2/share/trimmomatic-0.39-2/adapters/NexteraPE-PE.fa\"\n",
    "run_trimmomatic(in_dir=\"../01-INPUT/02-FASTQ\",\n",
    "                out_dir=\"../02-OUTPUT/02-TRIM\",\n",
    "                params=f\"ILLUMINACLIP:{adapter_file}:2:30:10 LEADING:3 TRAILING:3 SLIDINGWINDOW:4:30 MINLEN:20\")\n",
    "\n",
    "# align sequencing reads to reference using bowtie2\n",
    "build_bowtie2_index(in_file=\"../01-INPUT/03-REFERENCE/Gent_RK2.fasta\",\n",
    "                    out_file=\"../02-OUTPUT/03-ALIGN/Gent_RK2\")\n",
    "run_bowtie2_alignment(in_dir=\"../02-OUTPUT/02-TRIM\",\n",
    "                      out_dir=\"../02-OUTPUT/03-ALIGN\")\n",
    "\n",
    "# analyze sequencing results using pysamstats\n",
    "run_pysamstats(in_dir=\"../02-OUTPUT/03-ALIGN\",\n",
    "               out_dir=\"../02-OUTPUT/04-ANALYZE\")\n",
    "\n",
    "# plot sequencing results\n",
    "df = pd.read_table(\"../02-OUTPUT/04-ANALYZE/LBspec-mut1_S19_L001_mapping.sorted.bam.var.txt\")\n",
    "df = df.query(\"pos>3500 and pos<5500\")\n",
    "\n",
    "fig, ax = plt.subplots(2,1)\n",
    "sns.lineplot(data=df,x='pos',y='mismatches',color='red',ax=ax[0])\n",
    "sns.lineplot(data=df,x='pos',y='matches',color='black',ax=ax[1])"
   ]
  }
 ],
 "metadata": {
  "kernelspec": {
   "display_name": "Python 3 (ipykernel)",
   "language": "python",
   "name": "python3"
  },
  "language_info": {
   "codemirror_mode": {
    "name": "ipython",
    "version": 3
   },
   "file_extension": ".py",
   "mimetype": "text/x-python",
   "name": "python",
   "nbconvert_exporter": "python",
   "pygments_lexer": "ipython3",
   "version": "3.9.7"
  }
 },
 "nbformat": 4,
 "nbformat_minor": 5
}
