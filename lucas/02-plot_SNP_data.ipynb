{
 "cells": [
  {
   "cell_type": "code",
   "execution_count": null,
   "metadata": {},
   "outputs": [],
   "source": [
    "from utils import *\n",
    "\n",
    "# import SNP data calculated by Mitch\n",
    "snp_df = None\n",
    "for snp_file in glob('../mitch/*_SNP_Counts_Final.csv'):\n",
    "    handle = snp_file.split('/')[-1].split('_')[0]\n",
    "    print(handle)\n",
    "    tmp_df = pd.read_csv(snp_file)\n",
    "    tmp_df = (tmp_df\n",
    "              .groupby('AApos')['thresh_nuc']\n",
    "              .count()\n",
    "              .reset_index()\n",
    "              .rename(columns={'thresh_nuc':handle})\n",
    "              .set_index('AApos')\n",
    "              )\n",
    "    snp_df = pd.concat([snp_df,tmp_df],axis=1)\n",
    "\n",
    "# melt SNP data\n",
    "tmp_df = (snp_df\n",
    " .reset_index()\n",
    " .melt(id_vars='AApos',\n",
    "       var_name='origin',\n",
    "       value_vars=['BBR1','pSa','RK2','pVS1'],\n",
    "       value_name='res_count'))\n",
    "\n",
    "# plot SNP data\n",
    "plot_residues(df=tmp_df.query('origin == \"pVS1\" and AApos != 358').dropna(),\n",
    "              col='res_count',\n",
    "              num_cols=60,\n",
    "              seq=PVS1,\n",
    "              id='pVS1')\n",
    "plot_residues(df=tmp_df.query('origin == \"BBR1\" and AApos != 221').dropna(),\n",
    "              col='res_count',\n",
    "              num_cols=38,\n",
    "              seq=BBR1,\n",
    "              id='BBR1')\n",
    "plot_residues(df=tmp_df.query('origin == \"RK2\" and AApos != 383').dropna(),\n",
    "              col='res_count',\n",
    "              num_cols=64,\n",
    "              seq=RK2,\n",
    "              id='RK2')\n",
    "plot_residues(df=tmp_df.query('origin == \"pSa\" and AApos != 324').dropna(),\n",
    "              col='res_count',\n",
    "              num_cols=54,\n",
    "              seq=PSA,\n",
    "              id='pSa')"
   ]
  }
 ],
 "metadata": {
  "kernelspec": {
   "display_name": "base",
   "language": "python",
   "name": "python3"
  },
  "language_info": {
   "codemirror_mode": {
    "name": "ipython",
    "version": 3
   },
   "file_extension": ".py",
   "mimetype": "text/x-python",
   "name": "python",
   "nbconvert_exporter": "python",
   "pygments_lexer": "ipython3",
   "version": "3.9.13"
  }
 },
 "nbformat": 4,
 "nbformat_minor": 2
}
